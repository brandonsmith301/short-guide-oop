{
 "cells": [
  {
   "attachments": {},
   "cell_type": "markdown",
   "metadata": {},
   "source": [
    "# Looping Constructs\n",
    "\n",
    "In C#, we have several iteration constructs to repeat blocks of code until an exit condition is true:\n",
    "\n",
    "1. The for loop:\n",
    "   - provides control over the initialisation, condition, and increment/decrement of the loop.\n",
    "\n",
    "2. The foreach/in loop:\n",
    "   - for iterating over collections and arrays.\n",
    "\n",
    "3. The while loop:\n",
    "   - continues to iterate as long as a specified condition is true.\n",
    "\n",
    "4. The 'do/while' loop:\n",
    "   - a variant of the while loop.\n",
    "   - executes the code block once before checking the condition, ensuring that the loop is executed at least once.\n"
   ]
  },
  {
   "cell_type": "markdown",
   "metadata": {},
   "source": [
    "## Using the `for` loop\n",
    "\n",
    "The for loop can be used when you need to iterate over a block of code a fixed number of times. It allows you to define the loops starting condition, the ending condition and the increment between iterations. \n",
    "\n",
    "```c#\n",
    "static void ForLoop()\n",
    "{\n",
    "  // The variable \"i\" is confined to the for loop's scope.\n",
    "  for(int i = 0; i < 4; i++)\n",
    "  {\n",
    "    Console.WriteLine(\"Number is: {0} \", i);\n",
    "  }\n",
    "  // Outside the for loop, \"i\" is no longer accessible.\n",
    "}\n",
    "```"
   ]
  },
  {
   "cell_type": "markdown",
   "metadata": {},
   "source": [
    "## Using the `foreach` loop\n",
    "\n",
    "Now we will look at the foreach loop, which is ideal when you want to iterate over each element in a collection, such as an array or a list without having to manage the indices or checking the bounds. How it works is by automatically traversing each item from start to finish in a sequential manner. Different to the for loop, it does not allow for jumping through elements, reversing the loop or any other form of non-linear traversal. \n",
    "\n",
    "This loop type is particularly useful for operations where you need to process each element, without manipulation of the iterator.\n",
    "\n",
    "```c#\n",
    "static void ForeachLoop()\n",
    "{\n",
    "    // Example with strings\n",
    "    string[] animalTypes = {\"Monkey\", \"Lion\", \"Gorilla\", \"Tiger\"};\n",
    "    foreach (string animal in animalTypes)\n",
    "    {\n",
    "        Console.WriteLine(animal);\n",
    "    }\n",
    "\n",
    "    // Example with integers\n",
    "    int[] numbers = { 1, 2, 3, 4 };\n",
    "    foreach (int number in numbers)\n",
    "    {\n",
    "        Console.WriteLine(number);\n",
    "    }\n",
    "}\n",
    "```"
   ]
  },
  {
   "cell_type": "markdown",
   "metadata": {},
   "source": [
    "## Using `while` and `do/while` loop\n",
    "\n",
    "The while loop continues to execute a set of statements repeatedly as long as a specified condition remains true. It is possible to have an infinite loop, which means we need to ensure that we correctly stablish this condition within the loop to prevent this in ever happening.\n",
    "\n",
    "```c#\n",
    "static void WhileLoop()\n",
    "{\n",
    "    string userInput = \"\";\n",
    "    // The loop continues until the user enters \"yes\".\n",
    "    while (userInput.ToLower() != \"yes\")\n",
    "    {\n",
    "        Console.WriteLine(\"In while loop\");\n",
    "        Console.Write(\"Are you done? [yes] [no]: \");\n",
    "        userInput = Console.ReadLine();\n",
    "    }\n",
    "}\n",
    "```\n",
    "\n",
    "The do/while loop, closely related to the while loop, makes sure that the block of code inside it runs **at least once** before the condition is checked. This is particularly useful when the condition to terminate the loop depends on something that occurs within the loop itself. \n",
    "\n",
    "```c#\n",
    "static void DoWhileLoop()\n",
    "{\n",
    "    string userInput = \"\";\n",
    "    do\n",
    "    {\n",
    "        // Runs at least once.\n",
    "        Console.WriteLine(\"In do/while loop\");\n",
    "        Console.Write(\"Are you done? [yes] [no]: \");\n",
    "        userInput = Console.ReadLine();\n",
    "    } while (userInput.ToLower() != \"yes\"); \n",
    "}\n",
    "```\n",
    "\n",
    "In short, while loop is useful for continuing a task until a condition changes. However, do/while is useful when you want to ensure that the task is performed at least once before terminating."
   ]
  }
 ],
 "metadata": {
  "kernelspec": {
   "display_name": "Python 3 (ipykernel)",
   "language": "python",
   "name": "python3"
  },
  "language_info": {
   "codemirror_mode": {
    "name": "ipython",
    "version": 3
   },
   "file_extension": ".py",
   "mimetype": "text/x-python",
   "name": "python",
   "nbconvert_exporter": "python",
   "pygments_lexer": "ipython3",
   "version": "3.10.11"
  }
 },
 "nbformat": 4,
 "nbformat_minor": 4
}
