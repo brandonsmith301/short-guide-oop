{
 "cells": [
  {
   "attachments": {},
   "cell_type": "markdown",
   "metadata": {},
   "source": [
    "# Visual Studio Code and .NET\n",
    "\n",
    "This section ensures that you are able to get started quickly and set up everything required for this unit, which is downloading Visual Studio Code and .NET. It also has other details such as learning to debug and other useful resources which you may find useful.\n",
    "\n",
    "```{note}\n",
    "For detailed instructions on installing Visual Studio Code, .NET, and setting up the C# Development Kit, please refer to the [Installing VS Code and the C# Development Kit](#installing-vs-code-and-the-c-dev-kit) video below.  However, the installation process should be trivial; you just need to ensure you select the correct download for your operating system.\n",
    "\n",
    "Else, you can just visit the links below:\n",
    "- [Visual Studio Code Download](https://code.visualstudio.com/download) \n",
    "- [.NET 8.0 Download](https://dotnet.microsoft.com/en-us/download/dotnet/8.0) \n",
    "```\n",
    "\n",
    "## Installing VS Code and the C# Dev Kit\n",
    "\n",
    "This tutorial covers the installation process, basic configurations, and a primer on using VS Code for your C# projects.\n",
    "\n",
    "<iframe width=\"560\" height=\"315\" src=\"https://www.youtube.com/embed/S4Rks1L03LI?si=Ntnzmy5_cOLN8aXS\" title=\"YouTube video player\" frameborder=\"0\" allow=\"accelerometer; autoplay; clipboard-write; encrypted-media; gyroscope; picture-in-picture; web-share\" allowfullscreen></iframe>\n",
    "\n",
    "## How to Debug in C#\n",
    "\n",
    "This is important, and both the chair and tutors are going to ensure that you are able to do this before you move on to the harder tasks. Knowing how to use debugging tools and strategies is important because it will help you fix problems faster and improve your productivity.\n",
    "\n",
    "<iframe width=\"560\" height=\"315\" src=\"https://www.youtube.com/embed/VuIOk3DqKgc?si=whO1znYn3qSheSYp\" title=\"YouTube video player\" frameborder=\"0\" allow=\"accelerometer; autoplay; clipboard-write; encrypted-media; gyroscope; picture-in-picture; web-share\" allowfullscreen></iframe>\n",
    "\n",
    "## Other Tutorials and Guides for getting started\n",
    "\n",
    "- [Official Visual Studio Code Documentation](https://code.visualstudio.com/docs)\n",
    "- [.NET Documentation](https://docs.microsoft.com/en-us/dotnet/)\n",
    "- [C# Programming Guide](https://docs.microsoft.com/en-us/dotnet/csharp/)\n",
    "- [Learn to debug C# code using Visual Studio](https://learn.microsoft.com/en-us/visualstudio/get-started/csharp/tutorial-debugger?view=vs-2022)"
   ]
  }
 ],
 "metadata": {
  "kernelspec": {
   "display_name": "Python 3 (ipykernel)",
   "language": "python",
   "name": "python3"
  },
  "language_info": {
   "codemirror_mode": {
    "name": "ipython",
    "version": 3
   },
   "file_extension": ".py",
   "mimetype": "text/x-python",
   "name": "python",
   "nbconvert_exporter": "python",
   "pygments_lexer": "ipython3",
   "version": "3.10.11"
  }
 },
 "nbformat": 4,
 "nbformat_minor": 4
}
